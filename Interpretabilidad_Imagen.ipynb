{
 "cells": [
  {
   "cell_type": "markdown",
   "metadata": {},
   "source": [
    "Contexto del Proyecto\n",
    "\n",
    "En este proyecto, desarrollamos un modelo de aprendizaje profundo utilizando TensorFlow/Keras para clasificar imágenes de Pikachu frente a otras imágenes (\"Not Pikachu\"). Este modelo está entrenado con un conjunto de datos estructurado en tres carpetas principales: train, validation y test, las cuales contienen subcarpetas que representan las clases Pikachu y Not Pikachu. La interfaz gráfica creada con Tkinter permite seleccionar una imagen y obtener la predicción del modelo con una probabilidad asociada. Este flujo cubre desde la carga y preparación de los datos hasta la implementación de un modelo y la interacción con el usuario.\n",
    "\n",
    "Librerías y Variables Utilizadas\n",
    "\n",
    "    Librerías\n",
    "\n",
    "        os: Permite manejar rutas de carpetas y archivos.\n",
    "\n",
    "        tensorflow: Utilizado para construir y entrenar el modelo de aprendizaje profundo.\n",
    "\n",
    "        numpy: Facilita el manejo de datos numéricos.\n",
    "\n",
    "        tkinter: Usado para construir la interfaz gráfica de usuario.\n",
    "\n",
    "        PIL (Pillow): Permite cargar y procesar imágenes en la interfaz gráfica.\n",
    "\n",
    "Variables Definidas\n",
    "\n",
    "    base_dir: Ruta base donde están ubicadas las carpetas de entrenamiento (train), validación (validation) y prueba (test).\n",
    "\n",
    "        base_dir = r\"C:\\ProjectVisuals\\Pokemon-Actividad-IA\"\n",
    "\n",
    "    train_dir, validation_dir, test_dir: Rutas completas a las carpetas train, validation y test.\n",
    "\n",
    "        train_dir = os.path.join(base_dir, \"train\")\n",
    "        validation_dir = os.path.join(base_dir, \"validation\")\n",
    "        test_dir = os.path.join(base_dir, \"test\")\n",
    "\n",
    "    img_size: Tamaño al que se redimensionan las imágenes para que sean compatibles con el modelo.\n",
    "\n",
    "        img_size = (150, 150)\n",
    "\n",
    "    batch_size: Número de imágenes procesadas en cada batch durante el entrenamiento.\n",
    "\n",
    "        batch_size = 32\n",
    "\n",
    "    epochs: Número de iteraciones completas sobre el conjunto de datos durante el entrenamiento.\n",
    "\n",
    "        epochs = 10\n",
    "\n",
    "    panel: Variable global utilizada en la interfaz gráfica para mostrar la imagen seleccionada.ç"
   ]
  },
  {
   "cell_type": "markdown",
   "metadata": {},
   "source": [
    "Explicación de Funciones\n",
    "\n",
    "    Función: train_model()\n",
    "\n",
    "        Objetivo: Preparar los datos, crear el modelo de clasificación y entrenarlo.\n",
    "\n",
    "    Pasos principales:\n",
    "\n",
    "        Preparar los generadores de datos:\n",
    "\n",
    "            Utilizamos ImageDataGenerator para realizar aumentos de datos en las imágenes de entrenamiento (escalado, rotación, zoom, volteo horizontal, etc.). Esto mejora la robustez del modelo."
   ]
  },
  {
   "cell_type": "code",
   "execution_count": null,
   "metadata": {},
   "outputs": [],
   "source": [
    "train_datagen = ImageDataGenerator(rescale=1.0 / 255, rotation_range=20, zoom_range=0.2, horizontal_flip=True)\n",
    "validation_datagen = ImageDataGenerator(rescale=1.0 / 255)\n",
    "test_datagen = ImageDataGenerator(rescale=1.0 / 255)"
   ]
  },
  {
   "cell_type": "markdown",
   "metadata": {},
   "source": [
    "Cargar imágenes desde las carpetas:\n",
    "\n",
    "    Se crean generadores para cargar imágenes desde train, validation y test, aplicando el preprocesamiento definido."
   ]
  },
  {
   "cell_type": "code",
   "execution_count": null,
   "metadata": {},
   "outputs": [],
   "source": [
    "train_generator = train_datagen.flow_from_directory(train_dir, target_size=img_size, batch_size=batch_size, class_mode='binary')\n",
    "validation_generator = validation_datagen.flow_from_directory(validation_dir, target_size=img_size, batch_size=batch_size, class_mode='binary')\n",
    "test_generator = test_datagen.flow_from_directory(test_dir, target_size=img_size, batch_size=batch_size, class_mode='binary')"
   ]
  },
  {
   "cell_type": "markdown",
   "metadata": {},
   "source": [
    "Crear el modelo:\n",
    "\n",
    "    Construimos un modelo Sequential con capas convolucionales, de pooling y densas."
   ]
  },
  {
   "cell_type": "code",
   "execution_count": null,
   "metadata": {},
   "outputs": [],
   "source": [
    "model = models.Sequential([\n",
    "    layers.Conv2D(32, (3, 3), activation='relu', input_shape=(img_size[0], img_size[1], 3)),\n",
    "    layers.MaxPooling2D((2, 2)),\n",
    "    layers.Conv2D(64, (3, 3), activation='relu'),\n",
    "    layers.MaxPooling2D((2, 2)),\n",
    "    layers.Conv2D(128, (3, 3), activation='relu'),\n",
    "    layers.MaxPooling2D((2, 2)),\n",
    "    layers.Flatten(),\n",
    "    layers.Dense(128, activation='relu'),\n",
    "    layers.Dense(1, activation='sigmoid')\n",
    "])"
   ]
  },
  {
   "cell_type": "markdown",
   "metadata": {},
   "source": [
    "Compilar el modelo:\n",
    "\n",
    "    Especificamos el optimizador (adam), la función de pérdida (binary_crossentropy) y la métrica (accuracy)."
   ]
  },
  {
   "cell_type": "code",
   "execution_count": null,
   "metadata": {},
   "outputs": [],
   "source": [
    "model.compile(optimizer='adam', loss='binary_crossentropy', metrics=['accuracy'])"
   ]
  },
  {
   "cell_type": "markdown",
   "metadata": {},
   "source": [
    "Entrenar el modelo:\n",
    "\n",
    "    Entrenamos el modelo con los generadores de datos de entrenamiento y validación durante el número de épocas definido."
   ]
  },
  {
   "cell_type": "code",
   "execution_count": null,
   "metadata": {},
   "outputs": [],
   "source": [
    "model.fit(train_generator, validation_data=validation_generator, epochs=epochs)"
   ]
  },
  {
   "cell_type": "markdown",
   "metadata": {},
   "source": [
    "Evaluar el modelo:\n",
    "\n",
    "    Evaluamos la precisión del modelo en el conjunto de prueba (test)."
   ]
  },
  {
   "cell_type": "code",
   "execution_count": null,
   "metadata": {},
   "outputs": [],
   "source": [
    "test_loss, test_acc = model.evaluate(test_generator)"
   ]
  },
  {
   "cell_type": "markdown",
   "metadata": {},
   "source": [
    "Guardar el modelo entrenado:\n",
    "\n",
    "    Guardamos el modelo en un archivo pokemon_model.h5 para su uso posterior."
   ]
  },
  {
   "cell_type": "code",
   "execution_count": null,
   "metadata": {},
   "outputs": [],
   "source": [
    "model.save(\"pokemon_model.h5\")"
   ]
  },
  {
   "cell_type": "markdown",
   "metadata": {},
   "source": [
    "Función: preprocess_image(image_path, img_size=(150, 150))\n",
    "\n",
    "    Objetivo: Preprocesar una imagen individual para que pueda ser ingresada al modelo.\n",
    "\n",
    "    Pasos principales:\n",
    "\n",
    "        Cargar la imagen:\n",
    "\n",
    "         Utilizamos load_img para cargar la imagen y redimensionarla al tamaño esperado por el modelo."
   ]
  },
  {
   "cell_type": "code",
   "execution_count": null,
   "metadata": {},
   "outputs": [],
   "source": [
    "img = tf.keras.utils.load_img(image_path, target_size=img_size)"
   ]
  },
  {
   "cell_type": "markdown",
   "metadata": {},
   "source": [
    "Convertir la imagen a un arreglo NumPy:\n",
    "\n",
    "    Convertimos la imagen en un arreglo y expandimos sus dimensiones para incluir el batch size."
   ]
  },
  {
   "cell_type": "code",
   "execution_count": null,
   "metadata": {},
   "outputs": [],
   "source": [
    "img_array = tf.keras.utils.img_to_array(img)\n",
    "img_array = np.expand_dims(img_array, axis=0)"
   ]
  },
  {
   "cell_type": "markdown",
   "metadata": {},
   "source": [
    "Normalizar los valores de los píxeles:\n",
    "\n",
    "    Dividimos los valores de los píxeles entre 255 para normalizarlos a un rango de [0, 1]."
   ]
  },
  {
   "cell_type": "code",
   "execution_count": null,
   "metadata": {},
   "outputs": [],
   "source": [
    "img_array /= 255.0"
   ]
  },
  {
   "cell_type": "markdown",
   "metadata": {},
   "source": [
    "Función: select_and_predict(model, class_indices)\n",
    "\n",
    "    Objetivo: Permitir al usuario seleccionar una imagen y predecir su clase utilizando el modelo entrenado.\n",
    "\n",
    "    Pasos principales:\n",
    "\n",
    "        Abrir cuadro de diálogo para seleccionar imagen:\n",
    "\n",
    "            Utilizamos filedialog.askopenfilename para permitir que el usuario seleccione una imagen."
   ]
  },
  {
   "cell_type": "code",
   "execution_count": null,
   "metadata": {},
   "outputs": [],
   "source": [
    "file_path = filedialog.askopenfilename(filetypes=[(\"Image files\", \"*.jpg;*.jpeg;*.png\")])"
   ]
  },
  {
   "cell_type": "markdown",
   "metadata": {},
   "source": [
    "Preprocesar la imagen seleccionada:\n",
    "\n",
    "    Llamamos a la función preprocess_image para preparar la imagen para el modelo."
   ]
  },
  {
   "cell_type": "markdown",
   "metadata": {},
   "source": [
    "Realizar predicción:\n",
    "\n",
    "    Usamos el modelo para predecir la clase de la imagen y calculamos la probabilidad de pertenencia a la clase Pikachu."
   ]
  },
  {
   "cell_type": "code",
   "execution_count": null,
   "metadata": {},
   "outputs": [],
   "source": [
    "prediction = model.predict(img_array)[0][0]\n",
    "similarity = prediction * 100 if prediction > 0.5 else (1 - prediction) * 100\n",
    "class_name = \"Pikachu\" if prediction > 0.5 else \"Not Pikachu\""
   ]
  },
  {
   "cell_type": "markdown",
   "metadata": {},
   "source": [
    "Actualizar la interfaz gráfica:\n",
    "\n",
    "    Mostramos la imagen seleccionada y los resultados de la predicción en la ventana principal."
   ]
  },
  {
   "cell_type": "code",
   "execution_count": null,
   "metadata": {},
   "outputs": [],
   "source": [
    "panel.configure(image=img_tk)\n",
    "result_label.config(text=result_text)"
   ]
  },
  {
   "cell_type": "markdown",
   "metadata": {},
   "source": [
    "Codigo:"
   ]
  },
  {
   "cell_type": "code",
   "execution_count": null,
   "metadata": {},
   "outputs": [],
   "source": [
    "import os\n",
    "import tensorflow as tf\n",
    "from tensorflow.keras import layers, models\n",
    "from tensorflow.keras.preprocessing.image import ImageDataGenerator\n",
    "import numpy as np\n",
    "from tkinter import Tk, Label, Button, filedialog\n",
    "from PIL import Image, ImageTk\n",
    "\n",
    "# Definir las rutas de las carpetas\n",
    "base_dir = r\"C:\\ProjectVisuals\\Pokemon-Actividad-IA\"\n",
    "train_dir = os.path.join(base_dir, \"train\")\n",
    "validation_dir = os.path.join(base_dir, \"validation\")\n",
    "test_dir = os.path.join(base_dir, \"test\")\n",
    "\n",
    "# Parámetros de entrenamiento\n",
    "img_size = (150, 150)  # Tamaño de las imágenes\n",
    "batch_size = 32  # Tamaño del batch\n",
    "epochs = 10  # Número de épocas para entrenar\n",
    "\n",
    "# Función para entrenar el modelo\n",
    "def train_model():\n",
    "    # Preparar generadores de datos para imágenes\n",
    "    train_datagen = ImageDataGenerator(rescale=1.0 / 255, rotation_range=20, zoom_range=0.2, horizontal_flip=True)\n",
    "    validation_datagen = ImageDataGenerator(rescale=1.0 / 255)\n",
    "    test_datagen = ImageDataGenerator(rescale=1.0 / 255)\n",
    "\n",
    "    # Cargar imágenes desde las carpetas\n",
    "    train_generator = train_datagen.flow_from_directory(\n",
    "        train_dir,\n",
    "        target_size=img_size,\n",
    "        batch_size=batch_size,\n",
    "        class_mode='binary'\n",
    "    )\n",
    "    validation_generator = validation_datagen.flow_from_directory(\n",
    "        validation_dir,\n",
    "        target_size=img_size,\n",
    "        batch_size=batch_size,\n",
    "        class_mode='binary'\n",
    "    )\n",
    "    test_generator = test_datagen.flow_from_directory(\n",
    "        test_dir,\n",
    "        target_size=img_size,\n",
    "        batch_size=batch_size,\n",
    "        class_mode='binary'\n",
    "    )\n",
    "\n",
    "    # Crear el modelo\n",
    "    print(\"Creando modelo...\")\n",
    "    model = models.Sequential([\n",
    "        layers.Conv2D(32, (3, 3), activation='relu', input_shape=(img_size[0], img_size[1], 3)),\n",
    "        layers.MaxPooling2D((2, 2)),\n",
    "        layers.Conv2D(64, (3, 3), activation='relu'),\n",
    "        layers.MaxPooling2D((2, 2)),\n",
    "        layers.Conv2D(128, (3, 3), activation='relu'),\n",
    "        layers.MaxPooling2D((2, 2)),\n",
    "        layers.Flatten(),\n",
    "        layers.Dense(128, activation='relu'),\n",
    "        layers.Dense(1, activation='sigmoid')  # Clasificación binaria\n",
    "    ])\n",
    "\n",
    "    # Compilar el modelo\n",
    "    model.compile(optimizer='adam',\n",
    "                  loss='binary_crossentropy',\n",
    "                  metrics=['accuracy'])\n",
    "\n",
    "    # Entrenar el modelo\n",
    "    print(\"Entrenando modelo...\")\n",
    "    model.fit(train_generator, validation_data=validation_generator, epochs=epochs)\n",
    "\n",
    "    # Evaluar en el conjunto de test\n",
    "    print(\"Evaluando modelo...\")\n",
    "    test_loss, test_acc = model.evaluate(test_generator)\n",
    "    print(f\"Precisión en test: {test_acc * 100:.2f}%\")\n",
    "\n",
    "    # Guardar el modelo\n",
    "    model.save(\"pokemon_model.h5\")\n",
    "    print(\"Modelo guardado como 'pokemon_model.h5'.\")\n",
    "\n",
    "    return model, train_generator.class_indices\n",
    "\n",
    "# Función para preprocesar una imagen individual\n",
    "def preprocess_image(image_path, img_size=(150, 150)):\n",
    "    img = tf.keras.utils.load_img(image_path, target_size=img_size)\n",
    "    img_array = tf.keras.utils.img_to_array(img)\n",
    "    img_array = np.expand_dims(img_array, axis=0)  # Expandir para incluir batch size\n",
    "    img_array /= 255.0  # Normalizar\n",
    "    return img_array\n",
    "\n",
    "# Función para seleccionar imagen y predecir\n",
    "def select_and_predict(model, class_indices):\n",
    "    global panel, result_label\n",
    "\n",
    "    # Abrir cuadro de diálogo para seleccionar imagen\n",
    "    file_path = filedialog.askopenfilename(filetypes=[(\"Image files\", \"*.jpg;*.jpeg;*.png\")])\n",
    "    if not file_path:\n",
    "        return  # Si el usuario cancela, no hacer nada\n",
    "\n",
    "    # Preprocesar imagen\n",
    "    img_array = preprocess_image(file_path)\n",
    "\n",
    "    # Realizar predicción\n",
    "    prediction = model.predict(img_array)[0][0]\n",
    "    similarity = prediction * 100 if prediction > 0.5 else (1 - prediction) * 100\n",
    "    class_name = \"Pikachu\" if prediction > 0.5 else \"Not Pikachu\"\n",
    "\n",
    "    # Mostrar la imagen seleccionada\n",
    "    img = Image.open(file_path)\n",
    "    img = img.resize((200, 200))  # Redimensionar para la vista\n",
    "    img_tk = ImageTk.PhotoImage(img)\n",
    "\n",
    "    if panel is None:\n",
    "        panel = Label(root, image=img_tk)\n",
    "        panel.image = img_tk\n",
    "        panel.pack(pady=10)\n",
    "    else:\n",
    "        panel.configure(image=img_tk)\n",
    "        panel.image = img_tk\n",
    "\n",
    "    # Mostrar el resultado de la predicción\n",
    "    result_text = f\"Clase: {class_name} | Probabilidad: {similarity:.2f}%\"\n",
    "    result_label.config(text=result_text)\n",
    "\n",
    "# Entrenar el modelo y obtener clases\n",
    "model, class_indices = train_model()\n",
    "\n",
    "# Crear ventana principal\n",
    "root = Tk()\n",
    "root.title(\"Clasificador de Pikachu\")\n",
    "root.geometry(\"400x400\")\n",
    "\n",
    "# Etiquetas e interfaz\n",
    "title_label = Label(root, text=\"Clasificador de Pikachu\", font=(\"Helvetica\", 16))\n",
    "title_label.pack(pady=10)\n",
    "\n",
    "select_button = Button(root, text=\"Seleccionar imagen\", command=lambda: select_and_predict(model, class_indices))\n",
    "select_button.pack(pady=10)\n",
    "\n",
    "result_label = Label(root, text=\"Clase: -- | Probabilidad: --\", font=(\"Helvetica\", 12))\n",
    "result_label.pack(pady=20)\n",
    "\n",
    "panel = None\n",
    "\n",
    "# Iniciar la aplicación\n",
    "root.mainloop()\n"
   ]
  }
 ],
 "metadata": {
  "language_info": {
   "name": "python"
  }
 },
 "nbformat": 4,
 "nbformat_minor": 2
}
